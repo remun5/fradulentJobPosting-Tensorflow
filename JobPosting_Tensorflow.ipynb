{
  "nbformat": 4,
  "nbformat_minor": 0,
  "metadata": {
    "colab": {
      "name": "JobPosting_Tensorflow.ipynb",
      "provenance": []
    },
    "kernelspec": {
      "name": "python3",
      "display_name": "Python 3"
    }
  },
  "cells": [
    {
      "cell_type": "markdown",
      "metadata": {
        "id": "dK3ytYXu4u4D",
        "colab_type": "text"
      },
      "source": [
        "## **[Real or Fake] Job Posting using Tensorflow**:"
      ]
    },
    {
      "cell_type": "markdown",
      "metadata": {
        "id": "ttDsTWwSM_0w",
        "colab_type": "text"
      },
      "source": [
        "The idea of this project is to convert our previous implementation from scratch to a tensorflow 1 implementation. Here, we deal with the same Fake job posting dataset and implement firstly a single layer neural network and then extend it to a multi layer implementation. "
      ]
    },
    {
      "cell_type": "code",
      "metadata": {
        "id": "f23trmBa3ffQ",
        "colab_type": "code",
        "colab": {
          "base_uri": "https://localhost:8080/",
          "height": 122
        },
        "outputId": "7167bcfa-69de-454d-c8e6-7c9bfe839be4"
      },
      "source": [
        "import numpy as np\n",
        "import matplotlib.pyplot as plt\n",
        "import pandas as pd\n",
        "import math\n",
        "import seaborn as sns\n",
        "import tensorflow.compat.v1 as tf\n",
        "tf.disable_v2_behavior()\n",
        "from tensorflow.python.framework import ops"
      ],
      "execution_count": null,
      "outputs": [
        {
          "output_type": "stream",
          "text": [
            "/usr/local/lib/python3.6/dist-packages/statsmodels/tools/_testing.py:19: FutureWarning: pandas.util.testing is deprecated. Use the functions in the public API at pandas.testing instead.\n",
            "  import pandas.util.testing as tm\n"
          ],
          "name": "stderr"
        },
        {
          "output_type": "stream",
          "text": [
            "WARNING:tensorflow:From /usr/local/lib/python3.6/dist-packages/tensorflow/python/compat/v2_compat.py:96: disable_resource_variables (from tensorflow.python.ops.variable_scope) is deprecated and will be removed in a future version.\n",
            "Instructions for updating:\n",
            "non-resource variables are not supported in the long term\n"
          ],
          "name": "stdout"
        }
      ]
    },
    {
      "cell_type": "code",
      "metadata": {
        "id": "Y_-T1ZNt32-T",
        "colab_type": "code",
        "colab": {
          "resources": {
            "http://localhost:8080/nbextensions/google.colab/files.js": {
              "data": "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",
              "ok": true,
              "headers": [
                [
                  "content-type",
                  "application/javascript"
                ]
              ],
              "status": 200,
              "status_text": ""
            }
          },
          "base_uri": "https://localhost:8080/",
          "height": 72
        },
        "outputId": "86355a5b-1ec5-482d-ddac-e6d8daa4958e"
      },
      "source": [
        "from google.colab import files\n",
        "uploaded = files.upload()"
      ],
      "execution_count": null,
      "outputs": [
        {
          "output_type": "display_data",
          "data": {
            "text/html": [
              "\n",
              "     <input type=\"file\" id=\"files-6ce731eb-73ac-4c28-92c7-da6bb5bba628\" name=\"files[]\" multiple disabled\n",
              "        style=\"border:none\" />\n",
              "     <output id=\"result-6ce731eb-73ac-4c28-92c7-da6bb5bba628\">\n",
              "      Upload widget is only available when the cell has been executed in the\n",
              "      current browser session. Please rerun this cell to enable.\n",
              "      </output>\n",
              "      <script src=\"/nbextensions/google.colab/files.js\"></script> "
            ],
            "text/plain": [
              "<IPython.core.display.HTML object>"
            ]
          },
          "metadata": {
            "tags": []
          }
        },
        {
          "output_type": "stream",
          "text": [
            "Saving fake_job_postings.csv to fake_job_postings.csv\n"
          ],
          "name": "stdout"
        }
      ]
    },
    {
      "cell_type": "code",
      "metadata": {
        "id": "_KUUfgZr36lD",
        "colab_type": "code",
        "colab": {}
      },
      "source": [
        "df = pd.read_csv('fake_job_postings.csv')"
      ],
      "execution_count": null,
      "outputs": []
    },
    {
      "cell_type": "code",
      "metadata": {
        "id": "Q5TDcwQR3-kE",
        "colab_type": "code",
        "colab": {}
      },
      "source": [
        "df['country'] = df['location'].str.split(',', expand=True)[0]\n",
        "df['state'] = df['location'].str.split(',', expand=True)[2]\n",
        "df['city'] = df['location'].str.split(',', expand=True)[1]"
      ],
      "execution_count": null,
      "outputs": []
    },
    {
      "cell_type": "code",
      "metadata": {
        "id": "X8UH_fMM4DSw",
        "colab_type": "code",
        "colab": {}
      },
      "source": [
        "df['has_company_profile'] = df['company_profile'].isnull().astype(int)\n",
        "df['has_salary_range'] = df['salary_range'].isnull().astype(int)\n",
        "df['has_required_experience'] = df['required_experience'].isnull().astype(int)\n",
        "df['has_required_education'] = df['required_education'].isnull().astype(int)"
      ],
      "execution_count": null,
      "outputs": []
    },
    {
      "cell_type": "code",
      "metadata": {
        "id": "qeOjD-6MXiph",
        "colab_type": "code",
        "colab": {}
      },
      "source": [
        "df_sampled_0 = df[df['fraudulent']==0].sample(n = 866)\n",
        "df_sampled = pd.concat([df_sampled_0, df[df['fraudulent']==1]]).sample(frac=1).reset_index(drop=True)\n",
        "df_sampled.drop(['job_id', 'location', 'salary_range', 'company_profile', 'description', 'requirements', 'benefits'], axis=1, inplace=True)\n",
        "df_sampled.fillna('<None>', inplace=True)"
      ],
      "execution_count": null,
      "outputs": []
    },
    {
      "cell_type": "code",
      "metadata": {
        "id": "KOP7JeLb4Ok1",
        "colab_type": "code",
        "colab": {}
      },
      "source": [
        "from sklearn.preprocessing import OneHotEncoder\n",
        " \n",
        "\n",
        "columns_to_encode =  ['title', 'department', 'employment_type', 'required_experience', 'required_education', 'industry', 'function', 'country', 'state', 'city']\n",
        "ohe    = OneHotEncoder(sparse=False)\n",
        "encoded_columns =    ohe.fit_transform(df_sampled[columns_to_encode])\n",
        "encoded_df = pd.DataFrame(encoded_columns)\n",
        "ohe.get_feature_names()\n",
        "encoded_df.columns = ohe.get_feature_names()"
      ],
      "execution_count": null,
      "outputs": []
    },
    {
      "cell_type": "code",
      "metadata": {
        "id": "xo4vkL7Z4SWT",
        "colab_type": "code",
        "colab": {}
      },
      "source": [
        "df_sampled_mod = df_sampled.drop(labels = columns_to_encode, axis=1)"
      ],
      "execution_count": null,
      "outputs": []
    },
    {
      "cell_type": "code",
      "metadata": {
        "id": "2EzInC_q4VS1",
        "colab_type": "code",
        "colab": {}
      },
      "source": [
        "df_final = pd.concat([df_sampled_mod, encoded_df], axis=1)"
      ],
      "execution_count": null,
      "outputs": []
    },
    {
      "cell_type": "code",
      "metadata": {
        "id": "JK3rJ-Gx4W1-",
        "colab_type": "code",
        "colab": {}
      },
      "source": [
        "X = df_final.loc[:, df_final.columns != 'fraudulent']\n",
        "y = df_final['fraudulent']"
      ],
      "execution_count": null,
      "outputs": []
    },
    {
      "cell_type": "code",
      "metadata": {
        "id": "zpmfi3onrFVS",
        "colab_type": "code",
        "colab": {}
      },
      "source": [
        "from sklearn.model_selection import train_test_split\n"
      ],
      "execution_count": null,
      "outputs": []
    },
    {
      "cell_type": "code",
      "metadata": {
        "id": "SHC35GW3rGmD",
        "colab_type": "code",
        "colab": {}
      },
      "source": [
        "X_train, X_test, y_train, y_test = train_test_split(X, y, test_size=0.3)\n"
      ],
      "execution_count": null,
      "outputs": []
    },
    {
      "cell_type": "code",
      "metadata": {
        "id": "eCh_pSQOjkSn",
        "colab_type": "code",
        "colab": {}
      },
      "source": [
        "X_train_flat = X_train.values.T\n",
        "X_test_flat = X_test.values.T"
      ],
      "execution_count": null,
      "outputs": []
    },
    {
      "cell_type": "code",
      "metadata": {
        "id": "K-wNM2qeTLho",
        "colab_type": "code",
        "colab": {}
      },
      "source": [
        "y_train_flat = y_train.values.reshape(1, -1)\n",
        "y_test_flat = y_test.values.reshape(1, -1)"
      ],
      "execution_count": null,
      "outputs": []
    },
    {
      "cell_type": "code",
      "metadata": {
        "id": "Fy6fA7ocwBqa",
        "colab_type": "code",
        "colab": {
          "base_uri": "https://localhost:8080/",
          "height": 34
        },
        "outputId": "932496c6-c17e-485b-b3e7-240180ab13b0"
      },
      "source": [
        "X_train_flat.shape, y_train_flat.shape"
      ],
      "execution_count": null,
      "outputs": [
        {
          "output_type": "execute_result",
          "data": {
            "text/plain": [
              "((2494, 1212), (1, 1212))"
            ]
          },
          "metadata": {
            "tags": []
          },
          "execution_count": 17
        }
      ]
    },
    {
      "cell_type": "markdown",
      "metadata": {
        "id": "D6_-tHnm4o8R",
        "colab_type": "text"
      },
      "source": [
        "### **Linear Regression using Tensorflow**"
      ]
    },
    {
      "cell_type": "code",
      "metadata": {
        "id": "PD07KzgU4tGI",
        "colab_type": "code",
        "colab": {}
      },
      "source": [
        "x = tf.placeholder(\"float\", shape = (X_train_flat.shape[0], None), name = 'x')\n",
        "initializer = tf.initializers.glorot_uniform()\n",
        "W = tf.Variable(initializer(shape = [1, X_train_flat.shape[0]]), name = 'W', dtype = \"float32\")\n",
        "b = tf.zeros([1], name = 'b')\n",
        "y = tf.placeholder(\"float\", shape = [1, None])\n",
        "Z = tf.matmul(W, x) + b\n",
        "activation = tf.math.sigmoid(Z)\n",
        "cost = tf.reduce_mean(tf.nn.sigmoid_cross_entropy_with_logits(logits = Z, labels = y))\n",
        "optimizer = tf.train.GradientDescentOptimizer(learning_rate = 0.1).minimize(cost)\n",
        "prediction = tf.round(activation)\n",
        "correct = tf.cast(tf.equal(prediction, y), dtype=tf.float32)\n",
        "accuracy = tf.reduce_mean(correct)"
      ],
      "execution_count": null,
      "outputs": []
    },
    {
      "cell_type": "code",
      "metadata": {
        "id": "Z8RsIpZSDFpP",
        "colab_type": "code",
        "colab": {
          "base_uri": "https://localhost:8080/",
          "height": 471
        },
        "outputId": "b35c3768-dff4-4907-d038-01f5fa8c73ad"
      },
      "source": [
        "train_acc = []\n",
        "test_acc = []\n",
        "\n",
        "init = tf.initialize_all_variables()\n",
        "with tf.Session() as sess:\n",
        "  sess.run(init)\n",
        "  iteration = []\n",
        "  x_entropy = []\n",
        "  for i in range(3000):\n",
        "    avg_cost = 0\n",
        "    sess.run(optimizer, feed_dict = {x: X_train_flat, y:y_train_flat})\n",
        "    avg_cost = sess.run(cost, feed_dict = {x: X_train_flat, y:y_train_flat})\n",
        "    temp_train_acc = sess.run(accuracy, feed_dict={x: X_train_flat, y: y_train_flat})\n",
        "    temp_test_acc = sess.run(accuracy, feed_dict={x: X_test_flat, y: y_test_flat})\n",
        "    if i % 500 == 0:\n",
        "      print(\"Iteration:\", i, \"cost=\", avg_cost, \"training accuracy=\", temp_train_acc, \"test accuracy = \", temp_test_acc)\n",
        "    x_entropy.append(avg_cost)\n",
        "    train_acc.append(temp_train_acc)\n",
        "    test_acc.append(temp_test_acc)\n",
        "    iteration.append(i)\n",
        "    \n",
        "  print (\"Training phase finished\")\n",
        "  plt.plot(iteration, x_entropy, 'o', label='Logistic Regression Training phase')\n",
        "  plt.ylabel('cost')\n",
        "  plt.xlabel('epoch')\n",
        "  plt.legend()\n",
        "  plt.show()"
      ],
      "execution_count": null,
      "outputs": [
        {
          "output_type": "stream",
          "text": [
            "WARNING:tensorflow:From /usr/local/lib/python3.6/dist-packages/tensorflow/python/util/tf_should_use.py:235: initialize_all_variables (from tensorflow.python.ops.variables) is deprecated and will be removed after 2017-03-02.\n",
            "Instructions for updating:\n",
            "Use `tf.global_variables_initializer` instead.\n",
            "Iteration: 0 cost= 0.68317145 training accuracy= 0.5750825 test accuracy =  0.58076924\n",
            "Iteration: 500 cost= 0.3722579 training accuracy= 0.8547855 test accuracy =  0.8403846\n",
            "Iteration: 1000 cost= 0.3278583 training accuracy= 0.8828383 test accuracy =  0.84615386\n",
            "Iteration: 1500 cost= 0.2997002 training accuracy= 0.8894389 test accuracy =  0.85384613\n",
            "Iteration: 2000 cost= 0.27835396 training accuracy= 0.8968647 test accuracy =  0.8576923\n",
            "Iteration: 2500 cost= 0.26101398 training accuracy= 0.910066 test accuracy =  0.86346155\n",
            "Training phase finished\n"
          ],
          "name": "stdout"
        },
        {
          "output_type": "display_data",
          "data": {
            "image/png": "[encoded data removed]",
            "text/plain": [
              "<Figure size 432x288 with 1 Axes>"
            ]
          },
          "metadata": {
            "tags": [],
            "needs_background": "light"
          }
        }
      ]
    },
    {
      "cell_type": "markdown",
      "metadata": {
        "id": "wtiDLsMsNcu4",
        "colab_type": "text"
      },
      "source": [
        "Here, as you can see, we used Adam optimizer and got a training accuracy of 91% and test accuracy of 86% which is not bad considering only one sigmoid layer."
      ]
    },
    {
      "cell_type": "markdown",
      "metadata": {
        "id": "sb-x63rbGxpY",
        "colab_type": "text"
      },
      "source": [
        "### **Deep Learning using Tensorflow**"
      ]
    },
    {
      "cell_type": "markdown",
      "metadata": {
        "id": "IjrMrGxXNozd",
        "colab_type": "text"
      },
      "source": [
        "Now for multi layer implementation, in the following example we consider three layers. The first layer is the input layer, and all the layers except for the final layer has relu as activation. The final layer is sigmoid."
      ]
    },
    {
      "cell_type": "code",
      "metadata": {
        "id": "fz-M1Ye8I9qt",
        "colab_type": "code",
        "colab": {}
      },
      "source": [
        "layers_dims = [X_train_flat.shape[0], 5, 1]"
      ],
      "execution_count": null,
      "outputs": []
    },
    {
      "cell_type": "code",
      "metadata": {
        "id": "yngHUQ35JEnZ",
        "colab_type": "code",
        "colab": {}
      },
      "source": [
        "def initialize_deep():\n",
        "  parameters = {}\n",
        "  initializer1 = tf.initializers.glorot_uniform()\n",
        "  initializer2 = tf.compat.v1.zeros_initializer()\n",
        "  \n",
        "  L = len(layers_dims)\n",
        "  for i in range(L-1):\n",
        "    W = tf.Variable(initializer1(shape = [layers_dims[i+1], layers_dims[i]]), name = 'W' + str(i+1), dtype = \"float32\")\n",
        "    b = tf.Variable(initializer2(shape = [layers_dims[i+1], 1]), name = 'b' + str(i+1), dtype = \"float32\")\n",
        "    parameters['W' + str(i+1)] = W\n",
        "    parameters['b' + str(i+1)] = b\n",
        "  return parameters"
      ],
      "execution_count": null,
      "outputs": []
    },
    {
      "cell_type": "code",
      "metadata": {
        "id": "WYnp2BDTFPRD",
        "colab_type": "code",
        "colab": {}
      },
      "source": [
        "def forward_propagation(A, parameters):\n",
        "  L = len(layers_dims)\n",
        "  for i in range(L-2):\n",
        "    W = parameters['W' + str(i+1)]\n",
        "    b = parameters['b' + str(i+1)]\n",
        "    A = tf.nn.relu(tf.matmul(W, A) + b)\n",
        "\n",
        "  WL = parameters['W' + str(L-1)]\n",
        "  bL = parameters['b' + str(L-1)]\n",
        "  ZL = tf.matmul(WL, A) + bL\n",
        "  return ZL"
      ],
      "execution_count": null,
      "outputs": []
    },
    {
      "cell_type": "code",
      "metadata": {
        "id": "EtUjNhFsYHrf",
        "colab_type": "code",
        "colab": {}
      },
      "source": [
        "def model(X_train, Y_train, X_test, Y_test, learning_rate = 0.0001):\n",
        "  ops.reset_default_graph()\n",
        "  X = tf.placeholder(\"float\", shape = (X_train_flat.shape[0], None), name = 'X')\n",
        "  y = tf.placeholder(\"float\", shape = [1, None], name = 'y')\n",
        "  parameters = initialize_deep()\n",
        "  ZL = forward_propagation(X, parameters)\n",
        "  cost = cost = tf.reduce_mean(tf.nn.sigmoid_cross_entropy_with_logits(logits = ZL, labels = y))\n",
        "  activation = tf.math.sigmoid(ZL)\n",
        "  optimizer = tf.train.AdamOptimizer(learning_rate = learning_rate).minimize(cost)\n",
        "  prediction = tf.round(activation)\n",
        "  correct = tf.cast(tf.equal(prediction, y), dtype=tf.float32)\n",
        "  accuracy = tf.reduce_mean(correct)\n",
        "\n",
        "  init = tf.global_variables_initializer()\n",
        "  with tf.Session() as sess:\n",
        "    sess.run(init)\n",
        "    x_entropy = []\n",
        "    for i in range(3000):\n",
        "      avg_cost = 0\n",
        "      _, avg_cost = sess.run([optimizer, cost], feed_dict = {X: X_train_flat, y:y_train_flat})\n",
        "      x_entropy.append(avg_cost)\n",
        "      temp_train_acc = sess.run(accuracy, feed_dict={X: X_train_flat, y: y_train_flat})\n",
        "      temp_test_acc = sess.run(accuracy, feed_dict={X: X_test_flat, y: y_test_flat})\n",
        "      if i % 100 == 0:\n",
        "        print(\"Iteration:\", i, \"cost=\", avg_cost, \"training accuracy=\", temp_train_acc, \"test accuracy =\", temp_test_acc)\n",
        "  return"
      ],
      "execution_count": null,
      "outputs": []
    },
    {
      "cell_type": "code",
      "metadata": {
        "id": "pCT1V02xaMJy",
        "colab_type": "code",
        "colab": {
          "base_uri": "https://localhost:8080/",
          "height": 527
        },
        "outputId": "27d77aca-32eb-4d27-cacf-6ff606f9de0a"
      },
      "source": [
        "parameters = model(X_train_flat, y_train_flat, X_test_flat, y_test_flat, learning_rate = 0.0001)\n"
      ],
      "execution_count": null,
      "outputs": [
        {
          "output_type": "stream",
          "text": [
            "Iteration: 0 cost= 0.69110125 training accuracy= 0.56848186 test accuracy = 0.5692308\n",
            "Iteration: 100 cost= 0.6577348 training accuracy= 0.8506601 test accuracy = 0.7865385\n",
            "Iteration: 200 cost= 0.61750746 training accuracy= 0.9232673 test accuracy = 0.84807694\n",
            "Iteration: 300 cost= 0.57833344 training accuracy= 0.93976897 test accuracy = 0.8576923\n",
            "Iteration: 400 cost= 0.5405294 training accuracy= 0.9447195 test accuracy = 0.86346155\n",
            "Iteration: 500 cost= 0.5040674 training accuracy= 0.95049506 test accuracy = 0.86346155\n",
            "Iteration: 600 cost= 0.46917492 training accuracy= 0.9554455 test accuracy = 0.86730766\n",
            "Iteration: 700 cost= 0.43613964 training accuracy= 0.9612211 test accuracy = 0.86730766\n",
            "Iteration: 800 cost= 0.40514606 training accuracy= 0.9669967 test accuracy = 0.86346155\n",
            "Iteration: 900 cost= 0.3762211 training accuracy= 0.9686469 test accuracy = 0.86538464\n",
            "Iteration: 1000 cost= 0.34933287 training accuracy= 0.9711221 test accuracy = 0.86538464\n",
            "Iteration: 1100 cost= 0.32447585 training accuracy= 0.9752475 test accuracy = 0.86153847\n",
            "Iteration: 1200 cost= 0.30155286 training accuracy= 0.9768977 test accuracy = 0.86730766\n",
            "Iteration: 1300 cost= 0.28043643 training accuracy= 0.97772276 test accuracy = 0.86923075\n",
            "Iteration: 1400 cost= 0.26099798 training accuracy= 0.9793729 test accuracy = 0.87115383\n",
            "Iteration: 1500 cost= 0.24313512 training accuracy= 0.9818482 test accuracy = 0.86923075\n",
            "Iteration: 1600 cost= 0.22671725 training accuracy= 0.98432344 test accuracy = 0.87115383\n",
            "Iteration: 1700 cost= 0.21161976 training accuracy= 0.9851485 test accuracy = 0.8730769\n",
            "Iteration: 1800 cost= 0.19772765 training accuracy= 0.9851485 test accuracy = 0.875\n",
            "Iteration: 1900 cost= 0.18493408 training accuracy= 0.9867987 test accuracy = 0.87884617\n",
            "Iteration: 2000 cost= 0.17313944 training accuracy= 0.98762375 test accuracy = 0.88076925\n",
            "Iteration: 2100 cost= 0.16225211 training accuracy= 0.98762375 test accuracy = 0.8769231\n",
            "Iteration: 2200 cost= 0.15218912 training accuracy= 0.98762375 test accuracy = 0.87884617\n",
            "Iteration: 2300 cost= 0.14287625 training accuracy= 0.98844886 test accuracy = 0.8769231\n",
            "Iteration: 2400 cost= 0.13424745 training accuracy= 0.99174917 test accuracy = 0.875\n",
            "Iteration: 2500 cost= 0.12624235 training accuracy= 0.9925743 test accuracy = 0.875\n",
            "Iteration: 2600 cost= 0.11880574 training accuracy= 0.9933993 test accuracy = 0.8769231\n",
            "Iteration: 2700 cost= 0.11188737 training accuracy= 0.9942244 test accuracy = 0.8769231\n",
            "Iteration: 2800 cost= 0.105358 training accuracy= 0.9942244 test accuracy = 0.8769231\n",
            "Iteration: 2900 cost= 0.09925132 training accuracy= 0.9942244 test accuracy = 0.8769231\n"
          ],
          "name": "stdout"
        }
      ]
    },
    {
      "cell_type": "markdown",
      "metadata": {
        "id": "XdTueAVyN8CL",
        "colab_type": "text"
      },
      "source": [
        "With this simple implementation, we have 99% training accuracy and 87% test accuracy. This shows the prevalance of large variance which we will try to reduce with some regularizers."
      ]
    },
    {
      "cell_type": "markdown",
      "metadata": {
        "id": "0H7boEyvs6E-",
        "colab_type": "text"
      },
      "source": [
        "## **Regularizations:**"
      ]
    },
    {
      "cell_type": "markdown",
      "metadata": {
        "id": "JTpCzGIFs-x3",
        "colab_type": "text"
      },
      "source": [
        "### **Dropout:**"
      ]
    },
    {
      "cell_type": "markdown",
      "metadata": {
        "id": "9t4ucgL0OLT1",
        "colab_type": "text"
      },
      "source": [
        "Like in the previous project, here we perform dropout regularization. "
      ]
    },
    {
      "cell_type": "code",
      "metadata": {
        "id": "VbBcbSs_bO0h",
        "colab_type": "code",
        "colab": {}
      },
      "source": [
        "def forward_propagation_dropout(A, parameters, keep_prob):\n",
        "  L = len(layers_dims)\n",
        "  for i in range(L-2):\n",
        "    W = parameters['W' + str(i+1)]\n",
        "    b = parameters['b' + str(i+1)]\n",
        "    A = tf.nn.dropout(A, rate = 1-keep_prob[i])\n",
        "    A = tf.nn.relu(tf.matmul(W, A) + b)\n",
        "\n",
        "  WL = parameters['W' + str(L-1)]\n",
        "  bL = parameters['b' + str(L-1)]\n",
        "  A = tf.nn.dropout(A, rate = 1-keep_prob[L-1])\n",
        "  ZL = tf.matmul(WL, A) + bL\n",
        "  return ZL"
      ],
      "execution_count": null,
      "outputs": []
    },
    {
      "cell_type": "code",
      "metadata": {
        "id": "rY1yzOnBuMx6",
        "colab_type": "code",
        "colab": {}
      },
      "source": [
        "def model_dropout(X_train, Y_train, X_test, Y_test, learning_rate = 0.0001):\n",
        "  ops.reset_default_graph()\n",
        "  X = tf.placeholder(\"float\", shape = (X_train_flat.shape[0], None), name = 'X')\n",
        "  y = tf.placeholder(\"float\", shape = [1, None], name = 'y')\n",
        "  keep_prob = tf.placeholder(\"float\", shape = [3], name = 'keep_prob')\n",
        "  parameters = initialize_deep()\n",
        "  ZL = forward_propagation_dropout(X, parameters, keep_prob)\n",
        "  cost = cost = tf.reduce_mean(tf.nn.sigmoid_cross_entropy_with_logits(logits = ZL, labels = y))\n",
        "  activation = tf.math.sigmoid(ZL)\n",
        "  optimizer = tf.train.AdamOptimizer(learning_rate = learning_rate).minimize(cost)\n",
        "  prediction = tf.round(activation)\n",
        "  correct = tf.cast(tf.equal(prediction, y), dtype=tf.float32)\n",
        "  accuracy = tf.reduce_mean(correct)\n",
        "\n",
        "  init = tf.global_variables_initializer()\n",
        "  with tf.Session() as sess:\n",
        "    sess.run(init)\n",
        "    x_entropy = []\n",
        "    for i in range(4000):\n",
        "      avg_cost = 0\n",
        "      _, avg_cost = sess.run([optimizer, cost], feed_dict = {X: X_train_flat, y:y_train_flat, keep_prob:[.5, .5, 1]})\n",
        "      x_entropy.append(avg_cost)\n",
        "      temp_train_acc = sess.run(accuracy, feed_dict={X: X_train_flat, y: y_train_flat, keep_prob:[.5, .5, 1]})\n",
        "      temp_test_acc = sess.run(accuracy, feed_dict={X: X_test_flat, y: y_test_flat, keep_prob:[1, 1, 1]})\n",
        "      if i % 100 == 0:\n",
        "        print(\"Iteration:\", i, \"cost=\", avg_cost, \"training accuracy=\", temp_train_acc, \"test accuracy =\", temp_test_acc)\n",
        "  return"
      ],
      "execution_count": null,
      "outputs": []
    },
    {
      "cell_type": "code",
      "metadata": {
        "id": "mfcEqBLcyN56",
        "colab_type": "code",
        "colab": {
          "base_uri": "https://localhost:8080/",
          "height": 697
        },
        "outputId": "b2c68e33-67af-4e15-864a-caebcb55a43d"
      },
      "source": [
        "parameters = model_dropout(X_train_flat, y_train_flat, X_test_flat, y_test_flat, learning_rate = 0.01)"
      ],
      "execution_count": null,
      "outputs": [
        {
          "output_type": "stream",
          "text": [
            "Iteration: 0 cost= 0.6998343 training accuracy= 0.6460396 test accuracy = 0.7019231\n",
            "Iteration: 100 cost= 0.13782416 training accuracy= 0.9249175 test accuracy = 0.86923075\n",
            "Iteration: 200 cost= 0.13731122 training accuracy= 0.9414191 test accuracy = 0.87884617\n",
            "Iteration: 300 cost= 0.14313164 training accuracy= 0.929868 test accuracy = 0.875\n",
            "Iteration: 400 cost= 0.15237069 training accuracy= 0.9480198 test accuracy = 0.8730769\n",
            "Iteration: 500 cost= 0.121123195 training accuracy= 0.9430693 test accuracy = 0.88653845\n",
            "Iteration: 600 cost= 0.1218443 training accuracy= 0.94966996 test accuracy = 0.88461536\n",
            "Iteration: 700 cost= 0.12154193 training accuracy= 0.9480198 test accuracy = 0.88461536\n",
            "Iteration: 800 cost= 0.09585942 training accuracy= 0.94966996 test accuracy = 0.88076925\n",
            "Iteration: 900 cost= 0.10624713 training accuracy= 0.9447195 test accuracy = 0.88269234\n",
            "Iteration: 1000 cost= 0.116999745 training accuracy= 0.9537954 test accuracy = 0.87884617\n",
            "Iteration: 1100 cost= 0.10973575 training accuracy= 0.95627064 test accuracy = 0.88269234\n",
            "Iteration: 1200 cost= 0.12729919 training accuracy= 0.9447195 test accuracy = 0.88461536\n",
            "Iteration: 1300 cost= 0.12872815 training accuracy= 0.9620462 test accuracy = 0.87884617\n",
            "Iteration: 1400 cost= 0.10368181 training accuracy= 0.94966996 test accuracy = 0.8923077\n",
            "Iteration: 1500 cost= 0.1133967 training accuracy= 0.94224423 test accuracy = 0.88076925\n",
            "Iteration: 1600 cost= 0.09489386 training accuracy= 0.93234324 test accuracy = 0.88269234\n",
            "Iteration: 1700 cost= 0.10678375 training accuracy= 0.9480198 test accuracy = 0.88653845\n",
            "Iteration: 1800 cost= 0.096611954 training accuracy= 0.94966996 test accuracy = 0.88269234\n",
            "Iteration: 1900 cost= 0.1078024 training accuracy= 0.94636965 test accuracy = 0.87884617\n",
            "Iteration: 2000 cost= 0.122124955 training accuracy= 0.95627064 test accuracy = 0.8903846\n",
            "Iteration: 2100 cost= 0.10576307 training accuracy= 0.9488449 test accuracy = 0.88846153\n",
            "Iteration: 2200 cost= 0.11695249 training accuracy= 0.9471947 test accuracy = 0.89615387\n",
            "Iteration: 2300 cost= 0.107130155 training accuracy= 0.9430693 test accuracy = 0.88076925\n",
            "Iteration: 2400 cost= 0.11528723 training accuracy= 0.9405941 test accuracy = 0.88461536\n",
            "Iteration: 2500 cost= 0.100853376 training accuracy= 0.94224423 test accuracy = 0.8903846\n",
            "Iteration: 2600 cost= 0.11367652 training accuracy= 0.95627064 test accuracy = 0.88269234\n",
            "Iteration: 2700 cost= 0.11224957 training accuracy= 0.9414191 test accuracy = 0.88846153\n",
            "Iteration: 2800 cost= 0.10843684 training accuracy= 0.9488449 test accuracy = 0.88846153\n",
            "Iteration: 2900 cost= 0.09644381 training accuracy= 0.9405941 test accuracy = 0.8903846\n",
            "Iteration: 3000 cost= 0.10420282 training accuracy= 0.9554455 test accuracy = 0.8903846\n",
            "Iteration: 3100 cost= 0.111303106 training accuracy= 0.94966996 test accuracy = 0.88461536\n",
            "Iteration: 3200 cost= 0.110678345 training accuracy= 0.95049506 test accuracy = 0.8923077\n",
            "Iteration: 3300 cost= 0.1075953 training accuracy= 0.9471947 test accuracy = 0.8903846\n",
            "Iteration: 3400 cost= 0.11311193 training accuracy= 0.93976897 test accuracy = 0.8942308\n",
            "Iteration: 3500 cost= 0.10173119 training accuracy= 0.9488449 test accuracy = 0.8923077\n",
            "Iteration: 3600 cost= 0.11280303 training accuracy= 0.9628713 test accuracy = 0.89615387\n",
            "Iteration: 3700 cost= 0.10896265 training accuracy= 0.9513201 test accuracy = 0.88076925\n",
            "Iteration: 3800 cost= 0.10590032 training accuracy= 0.9570957 test accuracy = 0.8903846\n",
            "Iteration: 3900 cost= 0.09376196 training accuracy= 0.94966996 test accuracy = 0.88846153\n"
          ],
          "name": "stdout"
        }
      ]
    },
    {
      "cell_type": "markdown",
      "metadata": {
        "id": "Opgz-lj1OQ-O",
        "colab_type": "text"
      },
      "source": [
        "After dropout, the gap between training and test accuracy has decreased. The This is a good result as it means that the overfitting problem is reduced."
      ]
    },
    {
      "cell_type": "markdown",
      "metadata": {
        "id": "E0yfK6urIAgN",
        "colab_type": "text"
      },
      "source": [
        "### L2:"
      ]
    },
    {
      "cell_type": "markdown",
      "metadata": {
        "id": "Lzqn3vE-OcbR",
        "colab_type": "text"
      },
      "source": [
        "After dropout, not let us implement the L2 regularization. The main change here is when we compute the cost, as now in the cost function, we also need to minimize the sum of Frobenius norm of the weight matrices for each layer."
      ]
    },
    {
      "cell_type": "code",
      "metadata": {
        "id": "8yKpI8kyyR1L",
        "colab_type": "code",
        "colab": {}
      },
      "source": [
        "beta = 0.01\n",
        "def model_L2(X_train, Y_train, X_test, Y_test, learning_rate = 0.0001):\n",
        "  ops.reset_default_graph()\n",
        "  X = tf.placeholder(\"float\", shape = (X_train_flat.shape[0], None), name = 'X')\n",
        "  y = tf.placeholder(\"float\", shape = [1, None], name = 'y')\n",
        "  parameters = initialize_deep()\n",
        "  ZL = forward_propagation(X, parameters)\n",
        "  cost = cost = tf.reduce_mean(tf.nn.sigmoid_cross_entropy_with_logits(logits = ZL, labels = y))\n",
        "  regularizer = 0\n",
        "  for i in range(len(layers_dims)-2):\n",
        "    regularizer+= tf.nn.l2_loss(parameters['W'+str(i+1)])\n",
        "  cost = tf.reduce_mean(cost + beta * regularizer)\n",
        "\n",
        "  activation = tf.math.sigmoid(ZL)\n",
        "  optimizer = tf.train.AdamOptimizer(learning_rate = learning_rate).minimize(cost)\n",
        "  prediction = tf.round(activation)\n",
        "  correct = tf.cast(tf.equal(prediction, y), dtype=tf.float32)\n",
        "  accuracy = tf.reduce_mean(correct)\n",
        "\n",
        "  init = tf.global_variables_initializer()\n",
        "  with tf.Session() as sess:\n",
        "    sess.run(init)\n",
        "    x_entropy = []\n",
        "    for i in range(3000):\n",
        "      avg_cost = 0\n",
        "      _, avg_cost = sess.run([optimizer, cost], feed_dict = {X: X_train_flat, y:y_train_flat})\n",
        "      x_entropy.append(avg_cost)\n",
        "      temp_train_acc = sess.run(accuracy, feed_dict={X: X_train_flat, y: y_train_flat})\n",
        "      temp_test_acc = sess.run(accuracy, feed_dict={X: X_test_flat, y: y_test_flat})\n",
        "      if i % 100 == 0:\n",
        "        print(\"Iteration:\", i, \"cost=\", avg_cost, \"training accuracy=\", temp_train_acc, \"test accuracy =\", temp_test_acc)\n",
        "  return"
      ],
      "execution_count": null,
      "outputs": []
    },
    {
      "cell_type": "code",
      "metadata": {
        "id": "YDd6nTf9IkiG",
        "colab_type": "code",
        "colab": {
          "base_uri": "https://localhost:8080/",
          "height": 527
        },
        "outputId": "169af7c4-82db-473c-cfac-c39d01551759"
      },
      "source": [
        "parameters = model_L2(X_train_flat, y_train_flat, X_test_flat, y_test_flat, learning_rate = 0.01)"
      ],
      "execution_count": null,
      "outputs": [
        {
          "output_type": "stream",
          "text": [
            "Iteration: 0 cost= 0.74208575 training accuracy= 0.7714521 test accuracy = 0.72692305\n",
            "Iteration: 100 cost= 0.24779354 training accuracy= 0.9579208 test accuracy = 0.8923077\n",
            "Iteration: 200 cost= 0.19267541 training accuracy= 0.9818482 test accuracy = 0.9096154\n",
            "Iteration: 300 cost= 0.15883157 training accuracy= 0.9925743 test accuracy = 0.9096154\n",
            "Iteration: 400 cost= 0.13607498 training accuracy= 0.9950495 test accuracy = 0.9096154\n",
            "Iteration: 500 cost= 0.11985906 training accuracy= 0.99834985 test accuracy = 0.9076923\n",
            "Iteration: 600 cost= 0.10725707 training accuracy= 1.0 test accuracy = 0.9096154\n",
            "Iteration: 700 cost= 0.09743647 training accuracy= 1.0 test accuracy = 0.9096154\n",
            "Iteration: 800 cost= 0.08991629 training accuracy= 1.0 test accuracy = 0.91346157\n",
            "Iteration: 900 cost= 0.08284359 training accuracy= 1.0 test accuracy = 0.9115385\n",
            "Iteration: 1000 cost= 0.077466115 training accuracy= 1.0 test accuracy = 0.9076923\n",
            "Iteration: 1100 cost= 0.07285159 training accuracy= 1.0 test accuracy = 0.91346157\n",
            "Iteration: 1200 cost= 0.06848871 training accuracy= 1.0 test accuracy = 0.91346157\n",
            "Iteration: 1300 cost= 0.06457499 training accuracy= 1.0 test accuracy = 0.91346157\n",
            "Iteration: 1400 cost= 0.061245576 training accuracy= 1.0 test accuracy = 0.9153846\n",
            "Iteration: 1500 cost= 0.06062781 training accuracy= 1.0 test accuracy = 0.90192306\n",
            "Iteration: 1600 cost= 0.055631723 training accuracy= 1.0 test accuracy = 0.9153846\n",
            "Iteration: 1700 cost= 0.053194225 training accuracy= 1.0 test accuracy = 0.91346157\n",
            "Iteration: 1800 cost= 0.05098657 training accuracy= 1.0 test accuracy = 0.9153846\n",
            "Iteration: 1900 cost= 0.04962363 training accuracy= 1.0 test accuracy = 0.90384614\n",
            "Iteration: 2000 cost= 0.047044367 training accuracy= 1.0 test accuracy = 0.9096154\n",
            "Iteration: 2100 cost= 0.04544194 training accuracy= 1.0 test accuracy = 0.9076923\n",
            "Iteration: 2200 cost= 0.05352946 training accuracy= 1.0 test accuracy = 0.88653845\n",
            "Iteration: 2300 cost= 0.04220516 training accuracy= 1.0 test accuracy = 0.9076923\n",
            "Iteration: 2400 cost= 0.04078254 training accuracy= 1.0 test accuracy = 0.9076923\n",
            "Iteration: 2500 cost= 0.039446577 training accuracy= 1.0 test accuracy = 0.9076923\n",
            "Iteration: 2600 cost= 0.03818334 training accuracy= 1.0 test accuracy = 0.9076923\n",
            "Iteration: 2700 cost= 0.036988176 training accuracy= 1.0 test accuracy = 0.9076923\n",
            "Iteration: 2800 cost= 0.035858907 training accuracy= 1.0 test accuracy = 0.9076923\n",
            "Iteration: 2900 cost= 0.03518957 training accuracy= 1.0 test accuracy = 0.9096154\n"
          ],
          "name": "stdout"
        }
      ]
    },
    {
      "cell_type": "markdown",
      "metadata": {
        "id": "nz3_Zl6vOrXz",
        "colab_type": "text"
      },
      "source": [
        "This reguaization has increased the test accuracy to 90%."
      ]
    },
    {
      "cell_type": "markdown",
      "metadata": {
        "id": "UGXc6jN6KHjR",
        "colab_type": "text"
      },
      "source": [
        "### **L2 + Dropout:**"
      ]
    },
    {
      "cell_type": "markdown",
      "metadata": {
        "id": "2tWPJbbpOvWK",
        "colab_type": "text"
      },
      "source": [
        "Now finally, let us add the two regulaizations together."
      ]
    },
    {
      "cell_type": "code",
      "metadata": {
        "id": "3Qlj6LG0IoCO",
        "colab_type": "code",
        "colab": {}
      },
      "source": [
        "def model_regularization(X_train, Y_train, X_test, Y_test, learning_rate = 0.0001):\n",
        "  ops.reset_default_graph()\n",
        "  X = tf.placeholder(\"float\", shape = (X_train_flat.shape[0], None), name = 'X')\n",
        "  y = tf.placeholder(\"float\", shape = [1, None], name = 'y')\n",
        "  keep_prob = tf.placeholder(\"float\", shape = [3], name = 'keep_prob')\n",
        "  parameters = initialize_deep()\n",
        "  ZL = forward_propagation_dropout(X, parameters, keep_prob)\n",
        "  cost = cost = tf.reduce_mean(tf.nn.sigmoid_cross_entropy_with_logits(logits = ZL, labels = y))\n",
        "  regularizer = 0\n",
        "  for i in range(len(layers_dims)-2):\n",
        "    regularizer+= tf.nn.l2_loss(parameters['W'+str(i+1)])\n",
        "  cost = tf.reduce_mean(cost + beta * regularizer)\n",
        "\n",
        "  activation = tf.math.sigmoid(ZL)\n",
        "  optimizer = tf.train.AdamOptimizer(learning_rate = learning_rate).minimize(cost)\n",
        "  prediction = tf.round(activation)\n",
        "  correct = tf.cast(tf.equal(prediction, y), dtype=tf.float32)\n",
        "  accuracy = tf.reduce_mean(correct)\n",
        "\n",
        "  init = tf.global_variables_initializer()\n",
        "  with tf.Session() as sess:\n",
        "    sess.run(init)\n",
        "    x_entropy = []\n",
        "    for i in range(4000):\n",
        "      avg_cost = 0\n",
        "      _, avg_cost = sess.run([optimizer, cost], feed_dict = {X: X_train_flat, y:y_train_flat, keep_prob:[.5, .5, 1]})\n",
        "      x_entropy.append(avg_cost)\n",
        "      temp_train_acc = sess.run(accuracy, feed_dict={X: X_train_flat, y: y_train_flat, keep_prob:[.5, .5, 1]})\n",
        "      temp_test_acc = sess.run(accuracy, feed_dict={X: X_test_flat, y: y_test_flat, keep_prob:[1, 1, 1]})\n",
        "      if i % 100 == 0:\n",
        "        print(\"Iteration:\", i, \"cost=\", avg_cost, \"training accuracy=\", temp_train_acc, \"test accuracy =\", temp_test_acc)\n",
        "  return"
      ],
      "execution_count": null,
      "outputs": []
    },
    {
      "cell_type": "code",
      "metadata": {
        "id": "oDDsh-BHKfEk",
        "colab_type": "code",
        "colab": {
          "base_uri": "https://localhost:8080/",
          "height": 697
        },
        "outputId": "d08e492a-ea95-4f43-b12b-8c9b11e9c071"
      },
      "source": [
        "parameters = model_regularization(X_train_flat, y_train_flat, X_test_flat, y_test_flat, learning_rate = 0.01)"
      ],
      "execution_count": null,
      "outputs": [
        {
          "output_type": "stream",
          "text": [
            "Iteration: 0 cost= 0.749731 training accuracy= 0.57838285 test accuracy = 0.6403846\n",
            "Iteration: 100 cost= 0.42012957 training accuracy= 0.85231024 test accuracy = 0.8769231\n",
            "Iteration: 200 cost= 0.35636252 training accuracy= 0.8927393 test accuracy = 0.8769231\n",
            "Iteration: 300 cost= 0.348603 training accuracy= 0.9026403 test accuracy = 0.8903846\n",
            "Iteration: 400 cost= 0.3263884 training accuracy= 0.9158416 test accuracy = 0.875\n",
            "Iteration: 500 cost= 0.30300987 training accuracy= 0.900165 test accuracy = 0.8769231\n",
            "Iteration: 600 cost= 0.2968905 training accuracy= 0.9141914 test accuracy = 0.88461536\n",
            "Iteration: 700 cost= 0.2861185 training accuracy= 0.9092409 test accuracy = 0.88653845\n",
            "Iteration: 800 cost= 0.27241087 training accuracy= 0.9232673 test accuracy = 0.875\n",
            "Iteration: 900 cost= 0.2679056 training accuracy= 0.90841585 test accuracy = 0.875\n",
            "Iteration: 1000 cost= 0.26479322 training accuracy= 0.9240924 test accuracy = 0.88653845\n",
            "Iteration: 1100 cost= 0.24837644 training accuracy= 0.9240924 test accuracy = 0.8769231\n",
            "Iteration: 1200 cost= 0.26732472 training accuracy= 0.9265677 test accuracy = 0.8730769\n",
            "Iteration: 1300 cost= 0.24366572 training accuracy= 0.9232673 test accuracy = 0.86538464\n",
            "Iteration: 1400 cost= 0.2660147 training accuracy= 0.91831684 test accuracy = 0.88653845\n",
            "Iteration: 1500 cost= 0.23395649 training accuracy= 0.91831684 test accuracy = 0.86538464\n",
            "Iteration: 1600 cost= 0.2527949 training accuracy= 0.9133663 test accuracy = 0.8769231\n",
            "Iteration: 1700 cost= 0.24209516 training accuracy= 0.92161715 test accuracy = 0.88461536\n",
            "Iteration: 1800 cost= 0.24876054 training accuracy= 0.9290429 test accuracy = 0.86730766\n",
            "Iteration: 1900 cost= 0.22638386 training accuracy= 0.9191419 test accuracy = 0.88461536\n",
            "Iteration: 2000 cost= 0.247669 training accuracy= 0.919967 test accuracy = 0.88846153\n",
            "Iteration: 2100 cost= 0.23289622 training accuracy= 0.92574257 test accuracy = 0.875\n",
            "Iteration: 2200 cost= 0.23841634 training accuracy= 0.9249175 test accuracy = 0.87884617\n",
            "Iteration: 2300 cost= 0.22210367 training accuracy= 0.9372937 test accuracy = 0.89615387\n",
            "Iteration: 2400 cost= 0.24792811 training accuracy= 0.9240924 test accuracy = 0.875\n",
            "Iteration: 2500 cost= 0.23293342 training accuracy= 0.9265677 test accuracy = 0.88653845\n",
            "Iteration: 2600 cost= 0.23371208 training accuracy= 0.93151814 test accuracy = 0.88846153\n",
            "Iteration: 2700 cost= 0.2524755 training accuracy= 0.9240924 test accuracy = 0.86923075\n",
            "Iteration: 2800 cost= 0.21726091 training accuracy= 0.93564355 test accuracy = 0.88461536\n",
            "Iteration: 2900 cost= 0.23721233 training accuracy= 0.9249175 test accuracy = 0.8557692\n",
            "Iteration: 3000 cost= 0.22369437 training accuracy= 0.92161715 test accuracy = 0.8596154\n",
            "Iteration: 3100 cost= 0.22081977 training accuracy= 0.9282178 test accuracy = 0.875\n",
            "Iteration: 3200 cost= 0.22847661 training accuracy= 0.929868 test accuracy = 0.87884617\n",
            "Iteration: 3300 cost= 0.22649267 training accuracy= 0.929868 test accuracy = 0.86923075\n",
            "Iteration: 3400 cost= 0.21231711 training accuracy= 0.9141914 test accuracy = 0.875\n",
            "Iteration: 3500 cost= 0.21528246 training accuracy= 0.9207921 test accuracy = 0.9\n",
            "Iteration: 3600 cost= 0.22382192 training accuracy= 0.9092409 test accuracy = 0.86923075\n",
            "Iteration: 3700 cost= 0.21025908 training accuracy= 0.9331683 test accuracy = 0.86730766\n",
            "Iteration: 3800 cost= 0.20670629 training accuracy= 0.92244226 test accuracy = 0.88269234\n",
            "Iteration: 3900 cost= 0.23012449 training accuracy= 0.9306931 test accuracy = 0.8730769\n"
          ],
          "name": "stdout"
        }
      ]
    },
    {
      "cell_type": "markdown",
      "metadata": {
        "id": "NoKaFLu8Oz5A",
        "colab_type": "text"
      },
      "source": [
        "With this implementation, the problem of overfitting has reduced significantly. In order to increase the bias in the data, we need to better model the features, maybe use natural langauge processing methods."
      ]
    },
    {
      "cell_type": "code",
      "metadata": {
        "id": "ILr0FU-QPDdA",
        "colab_type": "code",
        "colab": {}
      },
      "source": [
        ""
      ],
      "execution_count": null,
      "outputs": []
    }
  ]
}